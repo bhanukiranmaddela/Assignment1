{
 "cells": [
  {
   "cell_type": "markdown",
   "id": "b914b536",
   "metadata": {},
   "source": [
    "# 1. Create a function that takes a number n (integer greater than zero) as an argument, and returns 2 if n is odd and 8 if n is even."
   ]
  },
  {
   "cell_type": "code",
   "execution_count": 281,
   "id": "6dbdc412",
   "metadata": {},
   "outputs": [],
   "source": [
    "def f(n):\n",
    "    res={\"-1\":2,\"1\":8}\n",
    "    a=(-1)**n\n",
    "    print(res[str(a)])   "
   ]
  },
  {
   "cell_type": "code",
   "execution_count": 282,
   "id": "c2ddf3fb",
   "metadata": {},
   "outputs": [
    {
     "name": "stdout",
     "output_type": "stream",
     "text": [
      "2\n",
      "2\n",
      "8\n"
     ]
    }
   ],
   "source": [
    "f(1)\n",
    "f(3)\n",
    "f(2)"
   ]
  },
  {
   "cell_type": "markdown",
   "id": "fa24b319",
   "metadata": {},
   "source": [
    "# 2. Create a function that returns the majority vote in a list. A majority vote is an element that occurs > N/2 times in a list (where N is the length of the list)."
   ]
  },
  {
   "cell_type": "code",
   "execution_count": 283,
   "id": "088628d7",
   "metadata": {},
   "outputs": [],
   "source": [
    "def majority_vote(l):\n",
    "    occurances=len(l)/2\n",
    "    d=dict()\n",
    "    s = set(l)\n",
    "    for i in s:\n",
    "        d[i]=[i,l.count(i)]\n",
    "    if d[i][1]>occurances:\n",
    "        print(d[i][0])\n",
    "    else:\n",
    "        print(None)\n",
    "        \n",
    "    "
   ]
  },
  {
   "cell_type": "code",
   "execution_count": 284,
   "id": "74f8cbb0",
   "metadata": {},
   "outputs": [
    {
     "name": "stdout",
     "output_type": "stream",
     "text": [
      "A\n",
      "A\n",
      "None\n"
     ]
    }
   ],
   "source": [
    "majority_vote([\"A\", \"A\", \"B\"])# ➞ \"A\"`\n",
    "majority_vote([\"A\", \"A\", \"A\", \"B\", \"C\", \"A\"])# ➞ \"A\"\n",
    "\n",
    "majority_vote([\"A\", \"B\", \"B\", \"A\", \"C\", \"C\"])# ➞ None\n"
   ]
  },
  {
   "cell_type": "markdown",
   "id": "e9f0deed",
   "metadata": {},
   "source": [
    "# 3. Create a function that takes a string txt and censors any word from a given list lst. The text removed must be replaced by the given character char.\n",
    "\n"
   ]
  },
  {
   "cell_type": "code",
   "execution_count": 285,
   "id": "09c40895",
   "metadata": {},
   "outputs": [],
   "source": [
    "def censor_string(st, remove, rep):\n",
    "    for i in remove:\n",
    "        st = st.replace(i,rep*len(i))\n",
    "    print(st)\n",
    "    \n",
    "        \n",
    "        "
   ]
  },
  {
   "cell_type": "code",
   "execution_count": null,
   "id": "92441ccc",
   "metadata": {},
   "outputs": [],
   "source": []
  },
  {
   "cell_type": "code",
   "execution_count": 286,
   "id": "50103185",
   "metadata": {},
   "outputs": [
    {
     "name": "stdout",
     "output_type": "stream",
     "text": [
      "----- is - Wednesd-y!\n",
      "The *** jumped **** the moon.\n",
      "Why did the ******* cross the ****?\n"
     ]
    }
   ],
   "source": [
    "censor_string(\"Today is a Wednesday!\", [\"Today\", \"a\"], \"-\")# ➞ \"----- is - Wednesday!\"\n",
    "censor_string(\"The cow jumped over the moon.\", [\"cow\", \"over\"], \"*\")# \"The *** jumped **** the moon.\")\n",
    "\n",
    "censor_string(\"Why did the chicken cross the road?\", [\"Did\", \"chicken\", \"road\"], \"*\") # \"Why *** the ******* cross the ****?\"\n"
   ]
  },
  {
   "cell_type": "markdown",
   "id": "1362c076",
   "metadata": {},
   "source": [
    "# 4. In mathematics a Polydivisible Number (or magic number) is a number in a given number base with digits abcde... that has the following properties:"
   ]
  },
  {
   "cell_type": "code",
   "execution_count": 287,
   "id": "9621bf9c",
   "metadata": {},
   "outputs": [],
   "source": [
    "def is_polydivisible(n):\n",
    "    number=str(n)\n",
    "    result=[]\n",
    "    for i in range(1,len(number)+1):\n",
    "        res=int(number[:i])/i\n",
    "        result.append(res==int(res))\n",
    "    print(False if False in result else True)\n",
    "            \n",
    "        \n",
    "            \n",
    "        "
   ]
  },
  {
   "cell_type": "code",
   "execution_count": 288,
   "id": "52ff581d",
   "metadata": {},
   "outputs": [
    {
     "name": "stdout",
     "output_type": "stream",
     "text": [
      "True\n",
      "False\n"
     ]
    }
   ],
   "source": [
    "is_polydivisible(1232)# ➞ True\n",
    "# 1     / 1 = 1\n",
    "# 12    / 2 = 6\n",
    "# 123   / 3 = 41\n",
    "# 1232  / 4 = 308\n",
    "\n",
    "is_polydivisible(123220 )# ➞ False\n",
    "# 1   / 1 = 1\n",
    "# 12   / 2 = 6\n",
    "# 123   / 3 = 41\n",
    "# 1232   / 4 = 308\n",
    "# 12322   / 5 = 2464.4         # Not a Whole Number\n",
    "# 123220   /6 = 220536.333...  # Not a Whole Number\n"
   ]
  },
  {
   "cell_type": "markdown",
   "id": "af6c64ee",
   "metadata": {},
   "source": [
    "# 5. Create a function that takes a list of numbers and returns the sum of all prime numbers in the list."
   ]
  },
  {
   "cell_type": "code",
   "execution_count": null,
   "id": "7058c406",
   "metadata": {},
   "outputs": [],
   "source": []
  },
  {
   "cell_type": "code",
   "execution_count": 289,
   "id": "0f473495",
   "metadata": {},
   "outputs": [
    {
     "ename": "SyntaxError",
     "evalue": "invalid character in identifier (<ipython-input-289-a99b52c6b5f4>, line 1)",
     "output_type": "error",
     "traceback": [
      "\u001b[1;36m  File \u001b[1;32m\"<ipython-input-289-a99b52c6b5f4>\"\u001b[1;36m, line \u001b[1;32m1\u001b[0m\n\u001b[1;33m    sum_primes([1, 2, 3, 4, 5, 6, 7, 8, 9, 10]) ➞ 17\u001b[0m\n\u001b[1;37m                                                ^\u001b[0m\n\u001b[1;31mSyntaxError\u001b[0m\u001b[1;31m:\u001b[0m invalid character in identifier\n"
     ]
    }
   ],
   "source": [
    "sum_primes([1, 2, 3, 4, 5, 6, 7, 8, 9, 10]) ➞ 17\n",
    "\n",
    "sum_primes([2, 3, 4, 11, 20, 50, 71]) ➞ 87\n",
    "\n",
    "sum_primes([]) ➞ None\n"
   ]
  },
  {
   "cell_type": "code",
   "execution_count": 290,
   "id": "aeeff6ba",
   "metadata": {},
   "outputs": [],
   "source": [
    "def sum_primes(l):\n",
    "    if len(l)>0:\n",
    "        def prime(n):\n",
    "            if n in [1,0]:\n",
    "                return 0\n",
    "            for i in range(2,n):\n",
    "                if n%i==0:\n",
    "                    return 0\n",
    "            return n\n",
    "        print(sum([prime(i) for i in l]))\n",
    "    else:\n",
    "        print(None)\n",
    "        "
   ]
  },
  {
   "cell_type": "code",
   "execution_count": 291,
   "id": "035edf38",
   "metadata": {},
   "outputs": [
    {
     "name": "stdout",
     "output_type": "stream",
     "text": [
      "17\n",
      "87\n",
      "None\n"
     ]
    }
   ],
   "source": [
    "sum_primes([1, 2, 3, 4, 5, 6, 7, 8, 9, 10])# ➞ 17\n",
    "\n",
    "sum_primes([2, 3, 4, 11, 20, 50, 71])# ➞ 87\n",
    "\n",
    "sum_primes([])# ➞ None\n"
   ]
  }
 ],
 "metadata": {
  "kernelspec": {
   "display_name": "Python 3",
   "language": "python",
   "name": "python3"
  },
  "language_info": {
   "codemirror_mode": {
    "name": "ipython",
    "version": 3
   },
   "file_extension": ".py",
   "mimetype": "text/x-python",
   "name": "python",
   "nbconvert_exporter": "python",
   "pygments_lexer": "ipython3",
   "version": "3.8.8"
  }
 },
 "nbformat": 4,
 "nbformat_minor": 5
}
