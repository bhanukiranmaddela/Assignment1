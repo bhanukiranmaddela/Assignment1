{
 "cells": [
  {
   "cell_type": "markdown",
   "id": "80b1a81b",
   "metadata": {},
   "source": [
    "# 1. Create a function to perform basic arithmetic operations that includes addition, subtraction, multiplication and division on a string number "
   ]
  },
  {
   "cell_type": "code",
   "execution_count": 5,
   "id": "a373a19b",
   "metadata": {},
   "outputs": [],
   "source": [
    "def arithmetic_operation(st):\n",
    "    elements_in_list = st.split()\n",
    "    if elements_in_list[1]==\"+\":\n",
    "        print(int(elements_in_list[0])+int(elements_in_list[2]))\n",
    "    elif elements_in_list[1]==\"-\":\n",
    "        print(int(elements_in_list[0])-int(elements_in_list[2]))\n",
    "    elif elements_in_list[1]==\"*\":\n",
    "        print(int(elements_in_list[0])*int(elements_in_list[2]))\n",
    "    elif elements_in_list[1]==\"//\":\n",
    "        if int(elements_in_list[2])==0:\n",
    "            print(-1)\n",
    "        else:\n",
    "            print(int(elements_in_list[0])/int(elements_in_list[2]))"
   ]
  },
  {
   "cell_type": "code",
   "execution_count": 6,
   "id": "f3764417",
   "metadata": {},
   "outputs": [
    {
     "name": "stdout",
     "output_type": "stream",
     "text": [
      "24\n",
      "0\n",
      "144\n",
      "-1\n"
     ]
    }
   ],
   "source": [
    "arithmetic_operation(\"12 + 12\") #➞ 24 // 12 + 12 = 24\n",
    "\n",
    "arithmetic_operation(\"12 - 12\") #➞ 24 // 12 - 12 = 0\n",
    "\n",
    "arithmetic_operation(\"12 * 12\") #➞ 144 // 12 * 12 = 144\n",
    "\n",
    "arithmetic_operation(\"12 // 0\") #➞ -1 // 12 / 0 = -1\n"
   ]
  },
  {
   "cell_type": "markdown",
   "id": "7b4ec7a9",
   "metadata": {},
   "source": [
    "# 2. Write a function that takes the coordinates of three points in the form of a 2d array and returns the perimeter of the triangle. The given points are the vertices of a triangle on a two-dimensional plane."
   ]
  },
  {
   "cell_type": "code",
   "execution_count": 88,
   "id": "d8d7982f",
   "metadata": {},
   "outputs": [],
   "source": [
    "from math import sqrt\n",
    "def perimeter(l):\n",
    "    a,b,c=l\n",
    "    ab = sqrt((b[0]-a[0])**2+(b[1]-a[1])**2)\n",
    "    bc = sqrt((b[0]-c[0])**2+(b[1]-c[1])**2)\n",
    "    ac = sqrt((c[0]-a[0])**2+(c[1]-a[1])**2)\n",
    "    print(round(ab+bc+ac,2))"
   ]
  },
  {
   "cell_type": "code",
   "execution_count": 93,
   "id": "4a2c9204",
   "metadata": {},
   "outputs": [
    {
     "name": "stdout",
     "output_type": "stream",
     "text": [
      "47.08\n",
      "3.41\n",
      "68.28\n"
     ]
    }
   ],
   "source": [
    "perimeter( [ [15, 7], [5, 22], [11, 1] ] )# ➞ 47.08\n",
    "\n",
    "perimeter( [ [0, 0], [0, 1], [1, 0] ] ) #➞ 3.42\n",
    "\n",
    "perimeter( [ [-10, -10], [10, 10 ], [-10, 10] ] ) #➞ 68.28\n"
   ]
  },
  {
   "cell_type": "markdown",
   "id": "dd7f527c",
   "metadata": {},
   "source": [
    "# 3. A city skyline can be represented as a 2-D list with 1s representing buildings. In the example below, the height of the tallest building is 4 (second-most right column)."
   ]
  },
  {
   "cell_type": "raw",
   "id": "e282f322",
   "metadata": {},
   "source": [
    "[[0, 0, 0, 0, 0, 0],\n",
    "[0, 0, 0, 0, 1, 0],\n",
    "[0, 0, 1, 0, 1, 0],\n",
    "[0, 1, 1, 1, 1, 0],\n",
    "[1, 1, 1, 1, 1, 1]]\n"
   ]
  },
  {
   "cell_type": "code",
   "execution_count": 126,
   "id": "e600a63c",
   "metadata": {},
   "outputs": [],
   "source": []
  },
  {
   "cell_type": "code",
   "execution_count": 127,
   "id": "0fcd83cd",
   "metadata": {},
   "outputs": [],
   "source": [
    "l=\n",
    "[[0, 0, 0, 0, 0, 0],\n",
    "[0, 0, 0, 0, 1, 0],\n",
    "[0, 0, 1, 0, 1, 0],\n",
    "[0, 1, 1, 1, 1, 0],\n",
    "[1, 1, 1, 1, 1, 1]]\n"
   ]
  },
  {
   "cell_type": "code",
   "execution_count": 186,
   "id": "9d554d78",
   "metadata": {},
   "outputs": [],
   "source": [
    "def tallest_skyscraper(l):\n",
    "    transpose = []\n",
    "    for i in range(len(l)):\n",
    "        row=[]\n",
    "        for j in range(len(l[i])):\n",
    "            try:\n",
    "                row.append(l[j][i])\n",
    "            except:\n",
    "                continue\n",
    "        transpose.append(row)\n",
    "    height=0\n",
    "    for i in transpose:\n",
    "        count=i.count(1)\n",
    "        if count>height:\n",
    "            height=count\n",
    "    print(height)\n",
    "        \n",
    "        "
   ]
  },
  {
   "cell_type": "code",
   "execution_count": 189,
   "id": "63fcadc7",
   "metadata": {},
   "outputs": [
    {
     "name": "stdout",
     "output_type": "stream",
     "text": [
      "4\n",
      "3\n",
      "4\n",
      "2\n"
     ]
    }
   ],
   "source": [
    "tallest_skyscraper(l)\n",
    "tallest_skyscraper([\n",
    "  [0, 0, 0, 0],\n",
    "  [0, 1, 0, 0],\n",
    "  [0, 1, 1, 0],\n",
    "  [1, 1, 1, 1]\n",
    "])# ➞ 3\n",
    "\n",
    "tallest_skyscraper([\n",
    "  [0, 1, 0, 0],\n",
    "  [0, 1, 0, 0],\n",
    "  [0, 1, 1, 0],\n",
    "  [1, 1, 1, 1]\n",
    "])# ➞ 4\n",
    "\n",
    "tallest_skyscraper([\n",
    "  [0, 0, 0, 0],\n",
    "  [0, 0, 0, 0],\n",
    "  [1, 1, 1, 0],\n",
    "  [1, 1, 1, 1]\n",
    "]) #➞ 2\n"
   ]
  },
  {
   "cell_type": "markdown",
   "id": "f1ef4806",
   "metadata": {},
   "source": [
    "# 4. A financial institution provides professional services to banks and claims charges from the customers based on the number of man-days provided. Internally, it has set a scheme to motivate and reward staff to meet and exceed targeted billable utilization and revenues by paying a bonus for each day claimed from customers in excess of a threshold target."
   ]
  },
  {
   "cell_type": "raw",
   "id": "2927c3e9",
   "metadata": {},
   "source": [
    "Days\t                             Bonus\n",
    "0 to 32 days\t                   Zero\n",
    "33 to 40 days\t         SGD$325 per billable day\n",
    "41 to 48 days\t         SGD$550 per billable day\n",
    "Greater than 48 days      SGD$600 per billable day\n"
   ]
  },
  {
   "cell_type": "code",
   "execution_count": 210,
   "id": "205d9169",
   "metadata": {},
   "outputs": [],
   "source": [
    "def bonus(n):\n",
    "    if n>48 :\n",
    "        print(325*8+8*550+(n-48)*600)\n",
    "    elif n<48 & n>=41:\n",
    "        print((n-41)*550+(8*325))\n",
    "    elif n>32:\n",
    "        print((n-32)*325)\n",
    "    elif n<=32:\n",
    "        print(0)        "
   ]
  },
  {
   "cell_type": "code",
   "execution_count": 213,
   "id": "1c30c0fe",
   "metadata": {},
   "outputs": [
    {
     "name": "stdout",
     "output_type": "stream",
     "text": [
      "0\n",
      "1625\n",
      "8200\n"
     ]
    }
   ],
   "source": [
    "bonus(15) #➞ 0\n",
    "\n",
    "bonus(37) #➞ 1625\n",
    "\n",
    "bonus(50) #➞ 8200\n"
   ]
  },
  {
   "cell_type": "markdown",
   "id": "77aa2091",
   "metadata": {},
   "source": [
    "# 5. A number is said to be Disarium if the sum of its digits raised to their respective positions is the number itself."
   ]
  },
  {
   "cell_type": "code",
   "execution_count": 223,
   "id": "fd8d8241",
   "metadata": {},
   "outputs": [],
   "source": [
    "def is_disarium(n):\n",
    "    str_n=str(n)\n",
    "    s=0\n",
    "    for i in range(len(str_n)):\n",
    "        s+=int(str_n[i])**(i+1)\n",
    "    if n==s:\n",
    "        print(True)\n",
    "    else:\n",
    "        print(False)\n",
    "    \n",
    "        \n",
    "    "
   ]
  },
  {
   "cell_type": "code",
   "execution_count": 224,
   "id": "cf51df46",
   "metadata": {},
   "outputs": [
    {
     "name": "stdout",
     "output_type": "stream",
     "text": [
      "False\n",
      "True\n",
      "False\n",
      "True\n",
      "False\n",
      "True\n"
     ]
    }
   ],
   "source": [
    "is_disarium(75)# ➞ False\n",
    "# 7^1 + 5^2 = 7 + 25 = 32\n",
    "\n",
    "is_disarium(135)# ➞ True\n",
    "# 1^1 + 3^2 + 5^3 = 1 + 9 + 125 = 135\n",
    "\n",
    "is_disarium(544)# ➞ False\n",
    "\n",
    "is_disarium(518)# ➞ True\n",
    "\n",
    "is_disarium(466)# ➞ False\n",
    "\n",
    "is_disarium(8)# ➞ True\n"
   ]
  }
 ],
 "metadata": {
  "kernelspec": {
   "display_name": "Python 3",
   "language": "python",
   "name": "python3"
  },
  "language_info": {
   "codemirror_mode": {
    "name": "ipython",
    "version": 3
   },
   "file_extension": ".py",
   "mimetype": "text/x-python",
   "name": "python",
   "nbconvert_exporter": "python",
   "pygments_lexer": "ipython3",
   "version": "3.8.8"
  }
 },
 "nbformat": 4,
 "nbformat_minor": 5
}
