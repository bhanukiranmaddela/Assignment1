{
 "cells": [
  {
   "cell_type": "markdown",
   "id": "9a4cb799",
   "metadata": {},
   "source": [
    "# 1. Create a function that takes a list and returns a new list containing only\n"
   ]
  },
  {
   "cell_type": "code",
   "execution_count": 2,
   "id": "c85daf49",
   "metadata": {},
   "outputs": [],
   "source": [
    "def filter_primes(li:list):\n",
    "    def is_prime(n):\n",
    "        for i in range(2,n):\n",
    "            if n%i==0:\n",
    "                return False\n",
    "        return True\n",
    "    res=[]\n",
    "    for i in li:\n",
    "        if is_prime(i):\n",
    "            res.append(i)\n",
    "    print(res)"
   ]
  },
  {
   "cell_type": "code",
   "execution_count": 3,
   "id": "dbc12cac",
   "metadata": {},
   "outputs": [
    {
     "name": "stdout",
     "output_type": "stream",
     "text": [
      "[7, 3, 11]\n",
      "[10007, 1009]\n",
      "[1009, 3, 1, 61, 1087, 1091, 1093, 1097]\n"
     ]
    }
   ],
   "source": [
    "filter_primes([7, 9, 3, 9, 10, 11, 27])# ➞ [7, 3, 11]\n",
    "filter_primes([10007, 1009, 1007, 27, 147, 77, 1001, 70])# ➞ [10007, 1009]\n",
    "filter_primes([1009, 10, 10, 10, 3, 33, 9, 4, 1, 61, 63, 69, 1087, 1091, 1093,\n",
    "1097])# ➞ [1009, 3, 61, 1087, 1091, 1093, 1097]"
   ]
  },
  {
   "cell_type": "markdown",
   "id": "10f1e168",
   "metadata": {},
   "source": [
    "# 2. Once a water balloon pops, is soaks the area around it. The ground gets\n",
    "drier the further away you travel from the balloon.\n",
    "The effect of a water balloon popping can be modeled using a list. Create a\n",
    "function that takes a list which takes the pre-pop state and returns the state\n",
    "after the balloon is popped. The pre-pop state will contain at most a single\n",
    "balloon, whose size is represented by the only non-zero element."
   ]
  },
  {
   "cell_type": "code",
   "execution_count": 12,
   "id": "28fe5e3b",
   "metadata": {},
   "outputs": [],
   "source": [
    "def pop(li:list):\n",
    "    res=[]\n",
    "    if len(li)==1:\n",
    "        print(li)\n",
    "    else:\n",
    "        left = len(li)//2\n",
    "        for i in range(left+1):\n",
    "            res+=[i]\n",
    "        res=res+res[:-1][::-1]\n",
    "        print(res)\n",
    "        "
   ]
  },
  {
   "cell_type": "code",
   "execution_count": 13,
   "id": "344b5554",
   "metadata": {},
   "outputs": [
    {
     "name": "stdout",
     "output_type": "stream",
     "text": [
      "[0, 1, 2, 3, 4, 3, 2, 1, 0]\n",
      "[0, 1, 2, 3, 2, 1, 0]\n",
      "[0, 1, 2, 1, 0]\n",
      "[0]\n"
     ]
    }
   ],
   "source": [
    "pop([0, 0, 0, 0, 4, 0, 0, 0, 0])# ➞ [0, 1, 2, 3, 4, 3, 2, 1, 0]\n",
    "pop([0, 0, 0, 3, 0, 0, 0])# ➞ [0, 1, 2, 3, 2, 1, 0]\n",
    "pop([0, 0, 2, 0, 0])# ➞ [0, 1, 2, 1, 0]\n",
    "pop([0])# ➞ [0]"
   ]
  },
  {
   "cell_type": "markdown",
   "id": "73ddfac5",
   "metadata": {},
   "source": [
    "# 3. &quot;Loves me, loves me not&quot; is a traditional game in which a person plucks off\n",
    "all the petals of a flower one by one, saying the phrase &quot;Loves me&quot; and\n",
    "&quot;Loves me not&quot; when determining whether the one that they love, loves them\n",
    "back.\n",
    "Given a number of petals, return a string which repeats the phrases &quot;Loves\n",
    "me&quot; and &quot;Loves me not&quot; for every alternating petal, and return the last phrase\n",
    "in all caps. Remember to put a comma and space between phrases."
   ]
  },
  {
   "cell_type": "code",
   "execution_count": 14,
   "id": "d7a3f616",
   "metadata": {},
   "outputs": [],
   "source": [
    "def loves_me(n):\n",
    "    print(\"LOVES ME NOT\" if n%2==0 else \"LOVES ME\")"
   ]
  },
  {
   "cell_type": "code",
   "execution_count": 17,
   "id": "a8ade91a",
   "metadata": {},
   "outputs": [
    {
     "name": "stdout",
     "output_type": "stream",
     "text": [
      "LOVES ME\n",
      "LOVES ME NOT\n",
      "LOVES ME\n"
     ]
    }
   ],
   "source": [
    "loves_me(3)# ➞ Loves me, Loves me not, LOVES ME\n",
    "loves_me(6)# ➞Loves me, Loves me not, Loves me, Loves me not, Loves\n",
    "#me, LOVES ME NOT\n",
    "loves_me(1)"
   ]
  },
  {
   "cell_type": "markdown",
   "id": "96bf71e4",
   "metadata": {},
   "source": [
    "# 4. Write a function that sorts each string in a list by the letter in alphabetic\n",
    "ascending order (a-z)."
   ]
  },
  {
   "cell_type": "code",
   "execution_count": 71,
   "id": "2452608c",
   "metadata": {},
   "outputs": [],
   "source": [
    "def sort_by_letter(li:list):\n",
    "    d=dict()\n",
    "    for i in li:\n",
    "        for j in i:\n",
    "            if j.isalpha():\n",
    "                if i not in d.values():\n",
    "                    d[j]=i\n",
    "    org=sorted(d)\n",
    "    res=[]\n",
    "    for i in org:\n",
    "        res.append(d[i])\n",
    "    print(res)\n",
    "    "
   ]
  },
  {
   "cell_type": "code",
   "execution_count": 73,
   "id": "53cce8d3",
   "metadata": {},
   "outputs": [
    {
     "name": "stdout",
     "output_type": "stream",
     "text": [
      "['2344b', '932c', '832u32']\n",
      "['99a', '78b', 'c2345', '11d']\n",
      "['304q2', '5y5', '572z']\n",
      "[]\n"
     ]
    }
   ],
   "source": [
    "sort_by_letter([\"932c\", \"832u32\", \"2344b\"])\n",
    "#➞ [\"2344b\", \"932c\", \"832u32\"]\n",
    "\n",
    "sort_by_letter([\"99a\", \"78b\", \"c2345\", \"11d\"])\n",
    "#➞ [\"99a\", \"78b\", \"c2345\", \"11d\"]\n",
    "\n",
    "sort_by_letter([\"572z\", \"5y5\", \"304q2\"])\n",
    "#➞ [\"304q2\", \"5y5\", \"572z\"]\n",
    "\n",
    "sort_by_letter([])\n",
    "#➞ []\n"
   ]
  },
  {
   "cell_type": "markdown",
   "id": "e179830d",
   "metadata": {},
   "source": [
    "# 5. There are three cups on a table, at positions A, B, and C. At the start, there is a ball hidden under the cup at position B."
   ]
  },
  {
   "cell_type": "code",
   "execution_count": 87,
   "id": "70c7860a",
   "metadata": {},
   "outputs": [],
   "source": [
    "def cup_swapping(l):\n",
    "    position=\"B\"\n",
    "    i=0\n",
    "    while i<len(l):\n",
    "        if \"A\" in l[i]:\n",
    "            position=\"A\"\n",
    "        if \"C\" in l[i]:\n",
    "            position=\"C\"\n",
    "        if position==\"C\":\n",
    "            break\n",
    "        i+=1\n",
    "    print(position)\n",
    "        \n",
    "        \n",
    "    "
   ]
  },
  {
   "cell_type": "code",
   "execution_count": 88,
   "id": "ec23fd5b",
   "metadata": {},
   "outputs": [
    {
     "name": "stdout",
     "output_type": "stream",
     "text": [
      "C\n"
     ]
    }
   ],
   "source": [
    "cup_swapping([\"AB\", \"CA\", \"AB\"])# ➞ \"C\""
   ]
  },
  {
   "cell_type": "code",
   "execution_count": null,
   "id": "8c39d2b4",
   "metadata": {},
   "outputs": [],
   "source": []
  },
  {
   "cell_type": "code",
   "execution_count": null,
   "id": "5524764f",
   "metadata": {},
   "outputs": [],
   "source": []
  }
 ],
 "metadata": {
  "kernelspec": {
   "display_name": "Python 3",
   "language": "python",
   "name": "python3"
  },
  "language_info": {
   "codemirror_mode": {
    "name": "ipython",
    "version": 3
   },
   "file_extension": ".py",
   "mimetype": "text/x-python",
   "name": "python",
   "nbconvert_exporter": "python",
   "pygments_lexer": "ipython3",
   "version": "3.8.8"
  }
 },
 "nbformat": 4,
 "nbformat_minor": 5
}
