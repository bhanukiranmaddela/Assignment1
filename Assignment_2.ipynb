{
 "cells": [
  {
   "cell_type": "code",
   "execution_count": null,
   "id": "dbc49f6e",
   "metadata": {},
   "outputs": [],
   "source": [
    "1.What are the two values of the Boolean data type? How do you write them?\n",
    "Ans:We have only two possible types of boolean values.\n",
    "    We can write them as True,Flase\n",
    "    "
   ]
  },
  {
   "cell_type": "code",
   "execution_count": null,
   "id": "0452a481",
   "metadata": {},
   "outputs": [],
   "source": [
    "2. What are the three different types of Boolean operators?\n",
    "Ans: The three boolean operators are AND,OR,NOT"
   ]
  },
  {
   "cell_type": "code",
   "execution_count": null,
   "id": "a59f7257",
   "metadata": {},
   "outputs": [],
   "source": [
    "3. Make a list of each Boolean operator truth tables (i.e. every possible combination of Boolean\n",
    "values for the operator and what it evaluate ).\n",
    "Ans:\n",
    "    AND Table:\n",
    "        True & True =True\n",
    "        False & True=False\n",
    "        False& False=False\n",
    "        True & False=False\n",
    "    OR Table:\n",
    "        True | True =True\n",
    "        False | True=True\n",
    "        False | False=False\n",
    "        True | False=True\n",
    "        \n",
    "    NOt Table:\n",
    "        not(True)=False\n",
    "        not(False)=True"
   ]
  },
  {
   "cell_type": "code",
   "execution_count": null,
   "id": "ec8688f0",
   "metadata": {},
   "outputs": [],
   "source": [
    "4. What are the values of the following expressions?\n",
    "(5 > 4) and (3 == 5)\n",
    "not (5 > 4)\n",
    "(5 > 4) or (3 == 5)\n",
    "not ((5 > 4) or (3 == 5))\n",
    "(True and True) and (True == False)\n",
    "(not False) or (not True)\n",
    "\n",
    "Ans:\n",
    "    (5 > 4) and (3 == 5)=>False\n",
    "    not (5 > 4)=>False\n",
    "    (5 > 4) or (3 == 5)==>True\n",
    "    not ((5 > 4) or (3 == 5))==>False\n",
    "    (True and True) and (True == False)==>False\n",
    "    (not False) or (not True)==>True\n",
    "    \n",
    "    \n",
    "    "
   ]
  },
  {
   "cell_type": "code",
   "execution_count": 7,
   "id": "a50e4fcc",
   "metadata": {},
   "outputs": [
    {
     "data": {
      "text/plain": [
       "True"
      ]
     },
     "execution_count": 7,
     "metadata": {},
     "output_type": "execute_result"
    }
   ],
   "source": [
    "5. What are the six comparison operators?\n",
    "Ans: >,<,&,|,!,==. And we have >=,<=,!= also for comparison"
   ]
  },
  {
   "cell_type": "code",
   "execution_count": null,
   "id": "97f18240",
   "metadata": {},
   "outputs": [],
   "source": [
    "6. How do you tell the difference between the equal to and assignment operators?Describe a condition and when you would use one.\n",
    "Ans: Assignment operator(=) is used to assign a  value to a variable where as Equal(==) to is check weather a condition is True or False with the given values\n",
    "    ex: a=2,b=5\n",
    "        if a==b:\n",
    "            print(\"Equal\")\n",
    "        here for comparing we have used equal to operator and \n",
    "    ex: c=6 \n",
    "        for giving/assigning a value to a variable we use '='"
   ]
  },
  {
   "cell_type": "raw",
   "id": "6b2d5ef7",
   "metadata": {},
   "source": [
    "# 7. Identify the three blocks in this code:\n",
    "spam = 0\n",
    "if spam == 10:\n",
    "    print('eggs')\n",
    "if spam > 5:\n",
    "    print('bacon')\n",
    "else:\n",
    "    print('ham')\n",
    "print('spam')\n",
    "print('spam')\n",
    "Ans: the first if condition with spam==10  and all code lines with in indentation is a block\n",
    "      the second if condition with spam>5  and all code lines with in indentation is a block\n",
    "      the second if block has it's else block and it's identation forms another block "
   ]
  },
  {
   "cell_type": "code",
   "execution_count": null,
   "id": "5b8c9c28",
   "metadata": {},
   "outputs": [],
   "source": [
    "# 8.Write code that prints Hello if 1 is stored in spam, prints Howdy if 2 is stored in spam, and prints Greetings! if anything else is stored in spam.\n",
    "if spam==1:\n",
    "    print(\"Hello\")\n",
    "elif spam==2:\n",
    "    print(\"Howdy\")\n",
    "else:\n",
    "    print(\"Greetings\")"
   ]
  },
  {
   "cell_type": "code",
   "execution_count": null,
   "id": "b7184235",
   "metadata": {},
   "outputs": [],
   "source": [
    "9.If your programme is stuck in an endless loop, what keys you’ll press?\n",
    "Ans:It is because of incorrect condition in a loop. I will restrt the kernel and verify the condition in for/while loop or check if condition"
   ]
  },
  {
   "cell_type": "code",
   "execution_count": null,
   "id": "5ad6c536",
   "metadata": {},
   "outputs": [],
   "source": [
    "10. How can you tell the difference between break and continue?\n",
    "Ans:break will stop the execution of a loop while continue will go to the next iteration"
   ]
  },
  {
   "cell_type": "code",
   "execution_count": null,
   "id": "345179fe",
   "metadata": {},
   "outputs": [],
   "source": [
    "11. In a for loop, what is the difference between range(10), range(0, 10), and range(0, 10, 1)?\n",
    "Ans: range(10),range(0,10) will give a list of number from 0 to 9, while range(0,10,1) will the same output  because of step size=1\n",
    "    output by all of them is 0,1,2,3,4,5,6,7,8,9"
   ]
  },
  {
   "cell_type": "code",
   "execution_count": null,
   "id": "3a1b4f01",
   "metadata": {},
   "outputs": [],
   "source": [
    "12. Write a short program that prints the numbers 1 to 10 using a for loop. Then write an equivalent program that prints the numbers 1 to 10 using a while loop.\n",
    "Ans: \n",
    "for i in range(1,11):\n",
    "    print(i)\n",
    "## using while\n",
    "i=1\n",
    "while i<=10:\n",
    "    print(i)\n",
    "    i+=1"
   ]
  },
  {
   "cell_type": "code",
   "execution_count": null,
   "id": "9ca756ff",
   "metadata": {},
   "outputs": [],
   "source": [
    "13. If you had a function named bacon() inside a module named spam, how would you call it after importing spam?\n",
    "\n",
    "import spam\n",
    "spam.bacon()#calling bacon aafter impoting spam\n",
    "#another method\n",
    "import * from spam \n",
    "bacon()"
   ]
  },
  {
   "cell_type": "code",
   "execution_count": null,
   "id": "de2b6fad",
   "metadata": {},
   "outputs": [],
   "source": []
  },
  {
   "cell_type": "code",
   "execution_count": null,
   "id": "6919ce1a",
   "metadata": {},
   "outputs": [],
   "source": []
  }
 ],
 "metadata": {
  "kernelspec": {
   "display_name": "Python 3",
   "language": "python",
   "name": "python3"
  }
 },
 "nbformat": 4,
 "nbformat_minor": 5
}
