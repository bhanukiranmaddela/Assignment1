{
 "cells": [
  {
   "cell_type": "markdown",
   "id": "c9145709",
   "metadata": {},
   "source": [
    "# 1. Write a function that takes a positive integer num and calculates how many dots exist in a pentagonal shape around the center dot on the Nth iteration."
   ]
  },
  {
   "cell_type": "code",
   "execution_count": null,
   "id": "6f677b4f",
   "metadata": {},
   "outputs": [],
   "source": [
    "1. Write a function that takes a positive integer num and calculates how many dots exist in a pentagonal shape around the center dot on the Nth iteration.\n",
    "\n",
    "In the image below you can see the first iteration is only a single dot. On the second, there are 6 dots. On the third, there are 16 dots, and on the fourth there are 31 dots.\n"
   ]
  },
  {
   "cell_type": "code",
   "execution_count": 9,
   "id": "15446dd7",
   "metadata": {},
   "outputs": [],
   "source": [
    "def pentagonal(n):\n",
    "    dots=0\n",
    "    for i in range(n):\n",
    "        dots+=i*5\n",
    "    print(dots+1) \n",
    "        \n",
    "    "
   ]
  },
  {
   "cell_type": "code",
   "execution_count": 13,
   "id": "c6cd5487",
   "metadata": {},
   "outputs": [
    {
     "name": "stdout",
     "output_type": "stream",
     "text": [
      "1\n",
      "6\n",
      "16\n",
      "31\n",
      "51\n",
      "76\n",
      "106\n",
      "141\n"
     ]
    }
   ],
   "source": [
    "pentagonal(1) \n",
    "pentagonal(2)\n",
    "pentagonal(3)\n",
    "pentagonal(4)\n",
    "pentagonal(5) \n",
    "pentagonal(6) \n",
    "pentagonal(7) \n",
    "pentagonal(8) "
   ]
  },
  {
   "cell_type": "markdown",
   "id": "c7925066",
   "metadata": {},
   "source": [
    "# 2.  Make a function that encrypts a given input with these steps:"
   ]
  },
  {
   "cell_type": "code",
   "execution_count": 15,
   "id": "cab7f3da",
   "metadata": {},
   "outputs": [],
   "source": [
    "def encrypt(st):\n",
    "    #step-1\n",
    "    st=st[::-1]\n",
    "    new_st=''\n",
    "    #step-2\n",
    "    for i in st:\n",
    "        if i in'Aa':\n",
    "            new_st+='0'\n",
    "        elif i in 'eE':\n",
    "            new_st+='1'\n",
    "        elif i in 'iIoO':\n",
    "            new_st+='2'\n",
    "        elif i in 'uU':\n",
    "            new_st+='3'\n",
    "        else:\n",
    "            new_st+=i\n",
    "    #step-3\n",
    "    print(new_st+'aca')\n",
    "    "
   ]
  },
  {
   "cell_type": "code",
   "execution_count": 18,
   "id": "8f7fdd2f",
   "metadata": {},
   "outputs": [
    {
     "name": "stdout",
     "output_type": "stream",
     "text": [
      "0n0n0baca\n",
      "0c0r0kaca\n",
      "k0r3baca\n",
      "0c0pl0aca\n"
     ]
    }
   ],
   "source": [
    "encrypt(\"banana\") \n",
    "encrypt(\"karaca\")\n",
    "encrypt(\"burak\") \n",
    "encrypt(\"alpaca\") "
   ]
  },
  {
   "cell_type": "markdown",
   "id": "b03742b9",
   "metadata": {},
   "source": [
    "# 3. Given the month and year as numbers, return whether that month contains a Friday 13th.(i.e You can check Python's datetime module)"
   ]
  },
  {
   "cell_type": "code",
   "execution_count": null,
   "id": "741a8d8c",
   "metadata": {},
   "outputs": [],
   "source": [
    "3. Given the month and year as numbers, return whether that month contains a Friday 13th.(i.e You can check Python's datetime module)"
   ]
  },
  {
   "cell_type": "code",
   "execution_count": 35,
   "id": "97dd4b2f",
   "metadata": {},
   "outputs": [],
   "source": [
    "from datetime import datetime\n",
    "def has_friday_13(month,year):\n",
    "    x = datetime(year, month, 13)#monday starts with 0\n",
    "    if(x.isoweekday()==5):\n",
    "        print(True)\n",
    "    else:\n",
    "        print(False)"
   ]
  },
  {
   "cell_type": "code",
   "execution_count": 36,
   "id": "48e52977",
   "metadata": {},
   "outputs": [
    {
     "name": "stdout",
     "output_type": "stream",
     "text": [
      "True\n",
      "True\n",
      "False\n"
     ]
    }
   ],
   "source": [
    "has_friday_13(3, 2020) \n",
    "has_friday_13(10, 2017) \n",
    "has_friday_13(1, 1985)"
   ]
  },
  {
   "cell_type": "code",
   "execution_count": null,
   "id": "d2a80490",
   "metadata": {},
   "outputs": [],
   "source": []
  },
  {
   "cell_type": "markdown",
   "id": "3a9e2348",
   "metadata": {},
   "source": [
    "# 4. Write a regular expression that will help us count how many bad cookies are produced every day. You must use RegEx negative lookbehind."
   ]
  },
  {
   "cell_type": "code",
   "execution_count": 39,
   "id": "d8b1cb98",
   "metadata": {},
   "outputs": [
    {
     "data": {
      "text/plain": [
       "2"
      ]
     },
     "execution_count": 39,
     "metadata": {},
     "output_type": "execute_result"
    }
   ],
   "source": [
    "import re\n",
    "lst = [\"bad cookie\", \"good cookie\", \"bad cookie\", \"good cookie\", \"good cookie\"]\n",
    "pattern = \"bad cookie\"\n",
    "len(re.findall(pattern, \",\".join(lst)))\n"
   ]
  },
  {
   "cell_type": "markdown",
   "id": "66351cd5",
   "metadata": {},
   "source": [
    "# 5. Given a list of words in the singular form, return a set of those words in the plural form if they appear more than once in the list."
   ]
  },
  {
   "cell_type": "code",
   "execution_count": 42,
   "id": "c4cfb366",
   "metadata": {},
   "outputs": [],
   "source": [
    "def pluralize(l):\n",
    "    new_set=set()\n",
    "    s=set(l)\n",
    "    for i in s:\n",
    "        if(l.count(i)>1):\n",
    "            new_set.add(i+'s')\n",
    "        else:\n",
    "            new_set.add(i)\n",
    "    print(new_set)"
   ]
  },
  {
   "cell_type": "code",
   "execution_count": 46,
   "id": "d32e1ecd",
   "metadata": {},
   "outputs": [
    {
     "name": "stdout",
     "output_type": "stream",
     "text": [
      "{'cows', 'pig'}\n",
      "{'tables'}\n",
      "{'chair', 'arm', 'pencil'}\n"
     ]
    }
   ],
   "source": [
    "pluralize([\"cow\", \"pig\", \"cow\", \"cow\"])\n",
    "pluralize([\"table\", \"table\", \"table\"]) \n",
    "pluralize([\"chair\", \"pencil\", \"arm\"]) "
   ]
  },
  {
   "cell_type": "code",
   "execution_count": null,
   "id": "155e32af",
   "metadata": {},
   "outputs": [],
   "source": []
  },
  {
   "cell_type": "code",
   "execution_count": null,
   "id": "a3969935",
   "metadata": {},
   "outputs": [],
   "source": []
  },
  {
   "cell_type": "code",
   "execution_count": null,
   "id": "8e52190b",
   "metadata": {},
   "outputs": [],
   "source": []
  },
  {
   "cell_type": "code",
   "execution_count": null,
   "id": "5d60c40c",
   "metadata": {},
   "outputs": [],
   "source": []
  },
  {
   "cell_type": "code",
   "execution_count": null,
   "id": "5daf2d5f",
   "metadata": {},
   "outputs": [],
   "source": []
  },
  {
   "cell_type": "code",
   "execution_count": null,
   "id": "68726be7",
   "metadata": {},
   "outputs": [],
   "source": []
  },
  {
   "cell_type": "code",
   "execution_count": null,
   "id": "c1f8deb0",
   "metadata": {},
   "outputs": [],
   "source": []
  },
  {
   "cell_type": "code",
   "execution_count": null,
   "id": "d1a991e1",
   "metadata": {},
   "outputs": [],
   "source": []
  },
  {
   "cell_type": "code",
   "execution_count": null,
   "id": "10cda204",
   "metadata": {},
   "outputs": [],
   "source": []
  },
  {
   "cell_type": "code",
   "execution_count": null,
   "id": "24faafeb",
   "metadata": {},
   "outputs": [],
   "source": []
  },
  {
   "cell_type": "code",
   "execution_count": null,
   "id": "24423050",
   "metadata": {},
   "outputs": [],
   "source": []
  },
  {
   "cell_type": "code",
   "execution_count": null,
   "id": "914fb53b",
   "metadata": {},
   "outputs": [],
   "source": []
  },
  {
   "cell_type": "code",
   "execution_count": null,
   "id": "c4c5891c",
   "metadata": {},
   "outputs": [],
   "source": []
  },
  {
   "cell_type": "code",
   "execution_count": null,
   "id": "77411725",
   "metadata": {},
   "outputs": [],
   "source": []
  },
  {
   "cell_type": "code",
   "execution_count": null,
   "id": "eb07bbc9",
   "metadata": {},
   "outputs": [],
   "source": []
  },
  {
   "cell_type": "code",
   "execution_count": null,
   "id": "45134ae4",
   "metadata": {},
   "outputs": [],
   "source": []
  },
  {
   "cell_type": "code",
   "execution_count": null,
   "id": "9a67b91b",
   "metadata": {},
   "outputs": [],
   "source": []
  },
  {
   "cell_type": "code",
   "execution_count": null,
   "id": "407720e7",
   "metadata": {},
   "outputs": [],
   "source": []
  },
  {
   "cell_type": "code",
   "execution_count": null,
   "id": "af2ea5a2",
   "metadata": {},
   "outputs": [],
   "source": []
  }
 ],
 "metadata": {
  "kernelspec": {
   "display_name": "Python 3",
   "language": "python",
   "name": "python3"
  },
  "language_info": {
   "codemirror_mode": {
    "name": "ipython",
    "version": 3
   },
   "file_extension": ".py",
   "mimetype": "text/x-python",
   "name": "python",
   "nbconvert_exporter": "python",
   "pygments_lexer": "ipython3",
   "version": "3.8.8"
  }
 },
 "nbformat": 4,
 "nbformat_minor": 5
}
