{
 "cells": [
  {
   "cell_type": "markdown",
   "id": "c2cef791",
   "metadata": {},
   "source": [
    "# 1. Write a function that counts how many concentric layers a rug."
   ]
  },
  {
   "cell_type": "code",
   "execution_count": 29,
   "id": "f9c3bcaf",
   "metadata": {},
   "outputs": [],
   "source": [
    "def count_layers(l):\n",
    "    lev_list=[]\n",
    "    for i in l:\n",
    "        each_lev=0\n",
    "        for j in range(len(i)-1):\n",
    "            if i[j]!=i[j+1]:\n",
    "                each_lev+=1\n",
    "        lev_list.append(each_lev)\n",
    "    print(int(max(lev_list)/2)+1)  "
   ]
  },
  {
   "cell_type": "code",
   "execution_count": 31,
   "id": "a9ad4f5a",
   "metadata": {},
   "outputs": [
    {
     "name": "stdout",
     "output_type": "stream",
     "text": [
      "5\n",
      "3\n",
      "2\n"
     ]
    }
   ],
   "source": [
    "count_layers([\n",
    "  \"AAAAAAAAAAA\",\n",
    "  \"AABBBBBBBAA\",\n",
    "  \"AABCCCCCBAA\",\n",
    "  \"AABCAAACBAA\",\n",
    "  \"AABCADACBAA\",\n",
    "  \"AABCAAACBAA\",\n",
    "  \"AABCCCCCBAA\",\n",
    "  \"AABBBBBBBAA\",\n",
    "  \"AAAAAAAAAAA\"\n",
    "])# ➞ 5\n",
    "\n",
    "\n",
    "count_layers([\n",
    "  \"AAAAAAAAA\",\n",
    "  \"ABBBBBBBA\",\n",
    "  \"ABBAAABBA\",\n",
    "  \"ABBBBBBBA\",\n",
    "  \"AAAAAAAAA\"\n",
    "])# ➞ 3\n",
    "count_layers([\n",
    "  \"AAAA\",\n",
    "  \"ABBA\",\n",
    "  \"AAAA\"\n",
    "])# ➞ 2\n"
   ]
  },
  {
   "cell_type": "markdown",
   "id": "f8be52e4",
   "metadata": {},
   "source": [
    "# 2. There are many different styles of music and many albums exhibit multiple styles. Create a function that takes a list of musical styles from albums and returns how many styles are unique."
   ]
  },
  {
   "cell_type": "code",
   "execution_count": 67,
   "id": "57ab22fd",
   "metadata": {},
   "outputs": [],
   "source": [
    "def unique_styles(l):\n",
    "    all_albums=[]\n",
    "    for i in l:\n",
    "        sp_list=i.split(\",\")\n",
    "        for k in sp_list:\n",
    "            all_albums.append(k)\n",
    "    print(len(set(all_albums)))"
   ]
  },
  {
   "cell_type": "code",
   "execution_count": 68,
   "id": "4245870a",
   "metadata": {},
   "outputs": [
    {
     "name": "stdout",
     "output_type": "stream",
     "text": [
      "9\n",
      "7\n"
     ]
    }
   ],
   "source": [
    "unique_styles([\n",
    "  \"Dub,Dancehall\",\n",
    "  \"Industrial,Heavy Metal\",\n",
    "  \"Techno,Dubstep\",\n",
    "  \"Synth-pop,Euro-Disco\",\n",
    "  \"Industrial,Techno,Minimal\"\n",
    "])# ➞ 9\n",
    "\n",
    "unique_styles([\n",
    "  \"Soul\",\n",
    "  \"House,Folk\",\n",
    "  \"Trance,Downtempo,Big Beat,House\",\n",
    "  \"Deep House\",\n",
    "  \"Soul\"\n",
    "])# ➞ 7\n"
   ]
  },
  {
   "cell_type": "markdown",
   "id": "1bab3c9e",
   "metadata": {},
   "source": [
    "# 3. Create a function that finds a target number in a list of prime numbers. Implement a binary search algorithm in your function. The target number will be from 2 through 97. If the target is prime then return \"yes\" else return \"no\"."
   ]
  },
  {
   "cell_type": "code",
   "execution_count": 1,
   "id": "22b6877f",
   "metadata": {},
   "outputs": [],
   "source": [
    "primes = [2, 3, 5, 7, 11, 13, 17, 19, 23, 29, 31, 37, 41, 43, 47, 53, 59, 61, 67, 71, 73, 79, 83, 89, 97]\n",
    "def is_prime(primes, target):\n",
    "    low=0\n",
    "    high=len(primes)\n",
    "    while low<=high:\n",
    "        mid=low+(high-low)//2\n",
    "        if primes[mid]>target:\n",
    "            high=mid-1\n",
    "        elif primes[mid]<target:\n",
    "            low=mid+1\n",
    "        else:\n",
    "            return \"yes\"\n",
    "    return \"no\""
   ]
  },
  {
   "cell_type": "code",
   "execution_count": 6,
   "id": "527002ae",
   "metadata": {},
   "outputs": [
    {
     "data": {
      "text/plain": [
       "'yes'"
      ]
     },
     "execution_count": 6,
     "metadata": {},
     "output_type": "execute_result"
    }
   ],
   "source": [
    "is_prime(primes, 3)# ➞ \"yes\""
   ]
  },
  {
   "cell_type": "code",
   "execution_count": 7,
   "id": "86132e16",
   "metadata": {},
   "outputs": [
    {
     "data": {
      "text/plain": [
       "'no'"
      ]
     },
     "execution_count": 7,
     "metadata": {},
     "output_type": "execute_result"
    }
   ],
   "source": [
    "is_prime(primes, 4)# ➞ \"no\""
   ]
  },
  {
   "cell_type": "code",
   "execution_count": 8,
   "id": "b49a18ef",
   "metadata": {},
   "outputs": [
    {
     "data": {
      "text/plain": [
       "'yes'"
      ]
     },
     "execution_count": 8,
     "metadata": {},
     "output_type": "execute_result"
    }
   ],
   "source": [
    "is_prime(primes, 67)# ➞ \"yes\""
   ]
  },
  {
   "cell_type": "code",
   "execution_count": 9,
   "id": "e4b84f10",
   "metadata": {},
   "outputs": [
    {
     "data": {
      "text/plain": [
       "'no'"
      ]
     },
     "execution_count": 9,
     "metadata": {},
     "output_type": "execute_result"
    }
   ],
   "source": [
    "is_prime(primes, 36)# ➞ \"no\""
   ]
  },
  {
   "cell_type": "code",
   "execution_count": null,
   "id": "2d0d2e1f",
   "metadata": {},
   "outputs": [],
   "source": []
  },
  {
   "cell_type": "code",
   "execution_count": null,
   "id": "c6f3ff65",
   "metadata": {},
   "outputs": [],
   "source": []
  },
  {
   "cell_type": "markdown",
   "id": "5b5e1d0d",
   "metadata": {},
   "source": [
    "# 4. Create a function that takes in n, a, b and returns the number of positive values raised to the nth power that lie in the range [a, b], inclusive."
   ]
  },
  {
   "cell_type": "code",
   "execution_count": 1,
   "id": "ea03e48f",
   "metadata": {},
   "outputs": [],
   "source": [
    "import math\n",
    "def power_ranger(n, a, b):\n",
    "    counter=0\n",
    "    num=1\n",
    "    for i in range(b):\n",
    "        if i**n >=a and i**n<=b:\n",
    "            counter+=1\n",
    "        if i**n>b:\n",
    "            break\n",
    "    print(counter)\n",
    "        \n",
    "      "
   ]
  },
  {
   "cell_type": "code",
   "execution_count": 16,
   "id": "68adb076",
   "metadata": {},
   "outputs": [
    {
     "name": "stdout",
     "output_type": "stream",
     "text": [
      "2\n",
      "3\n",
      "1\n",
      "1\n",
      "3\n"
     ]
    }
   ],
   "source": [
    "power_ranger(2, 49, 65)# ➞ 2\n",
    "# 2 squares (n^2) lie between 49 and 65, 49 (7^2) and 64 (8^2)\n",
    "\n",
    "power_ranger(3, 1, 27)# ➞ 3\n",
    "# 3 cubes (n^3) lie between 1 and 27, 1 (1^3), 8 (2^3) and 27 (3^3)\n",
    "\n",
    "power_ranger(10, 1, 5)# ➞ 1\n",
    "# 1 value raised to the 10th power lies between 1 and 5, 1 (1^10)\n",
    "\n",
    "power_ranger(5, 31, 33)# ➞ 1\n",
    "\n",
    "power_ranger(4, 250, 1300)# ➞ 3\n"
   ]
  },
  {
   "cell_type": "markdown",
   "id": "0686fe19",
   "metadata": {},
   "source": [
    "# 5. Given a number, return the difference between the maximum and minimum numbers that can be formed when the digits are rearranged.\n"
   ]
  },
  {
   "cell_type": "code",
   "execution_count": 94,
   "id": "70ff59d5",
   "metadata": {},
   "outputs": [],
   "source": [
    "def rearranged_difference(s):\n",
    "    def combs(s):\n",
    "        s=str(s)\n",
    "        if len(s)==1:\n",
    "            return [s]\n",
    "        perms = combs(s[1:])\n",
    "        first=s[0]\n",
    "        result=[]\n",
    "        for perm in perms:\n",
    "            for j in range(len(perm)+1):\n",
    "                result.append(perm[:j]+first+perm[j:])\n",
    "        return result\n",
    "    r1=[int(i) for i in combs(s)]\n",
    "    print(max(r1)-min(r1))"
   ]
  },
  {
   "cell_type": "code",
   "execution_count": 96,
   "id": "e054a893",
   "metadata": {},
   "outputs": [
    {
     "name": "stdout",
     "output_type": "stream",
     "text": [
      "760833\n",
      "7709823\n",
      "90981\n"
     ]
    }
   ],
   "source": [
    "rearranged_difference(972882)# ➞ 760833\n",
    "# 988722 - 227889 = 760833\n",
    "\n",
    "rearranged_difference(3320707)# ➞ 7709823\n",
    "# 7733200 - 23377 = 7709823\n",
    "\n",
    "rearranged_difference(90010)# ➞ 90981\n",
    "# 91000 - 19 = 90981\n"
   ]
  },
  {
   "cell_type": "code",
   "execution_count": 114,
   "id": "e4f88b4d",
   "metadata": {},
   "outputs": [],
   "source": []
  },
  {
   "cell_type": "code",
   "execution_count": null,
   "id": "a4d059b1",
   "metadata": {},
   "outputs": [],
   "source": []
  },
  {
   "cell_type": "code",
   "execution_count": null,
   "id": "5ed4512b",
   "metadata": {},
   "outputs": [],
   "source": []
  },
  {
   "cell_type": "code",
   "execution_count": null,
   "id": "4431eb1b",
   "metadata": {},
   "outputs": [],
   "source": []
  },
  {
   "cell_type": "code",
   "execution_count": null,
   "id": "0e3bdbfa",
   "metadata": {},
   "outputs": [],
   "source": []
  },
  {
   "cell_type": "code",
   "execution_count": null,
   "id": "5050fd3e",
   "metadata": {},
   "outputs": [],
   "source": []
  },
  {
   "cell_type": "code",
   "execution_count": null,
   "id": "722d30c4",
   "metadata": {},
   "outputs": [],
   "source": []
  },
  {
   "cell_type": "code",
   "execution_count": null,
   "id": "4f017a8f",
   "metadata": {},
   "outputs": [],
   "source": []
  },
  {
   "cell_type": "code",
   "execution_count": null,
   "id": "8ae60216",
   "metadata": {},
   "outputs": [],
   "source": []
  }
 ],
 "metadata": {
  "kernelspec": {
   "display_name": "Python 3",
   "language": "python",
   "name": "python3"
  },
  "language_info": {
   "codemirror_mode": {
    "name": "ipython",
    "version": 3
   },
   "file_extension": ".py",
   "mimetype": "text/x-python",
   "name": "python",
   "nbconvert_exporter": "python",
   "pygments_lexer": "ipython3",
   "version": "3.8.8"
  }
 },
 "nbformat": 4,
 "nbformat_minor": 5
}
