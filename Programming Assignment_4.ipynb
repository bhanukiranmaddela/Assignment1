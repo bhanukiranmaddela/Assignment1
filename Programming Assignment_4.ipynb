{
 "cells": [
  {
   "cell_type": "markdown",
   "id": "1ee517e1",
   "metadata": {},
   "source": [
    "# 1. In mathematics, the Fibonacci numbers, commonly denoted Fn, form a sequence, called the Fibonacci sequence, such that each number is the sum of the two preceding ones, starting from 0 and 1:"
   ]
  },
  {
   "cell_type": "code",
   "execution_count": 14,
   "id": "ef61a36d",
   "metadata": {},
   "outputs": [],
   "source": [
    "def fib_fast(n):\n",
    "    f0=0\n",
    "    f1=1\n",
    "    s=f0+f1\n",
    "    for i in range(2,n):\n",
    "        f0=f1\n",
    "        f1=s\n",
    "        s=f1+f0\n",
    "    print(s)\n",
    "        \n",
    "        \n",
    "    \n",
    "    "
   ]
  },
  {
   "cell_type": "code",
   "execution_count": 16,
   "id": "9ac9b920",
   "metadata": {
    "scrolled": true
   },
   "outputs": [
    {
     "name": "stdout",
     "output_type": "stream",
     "text": [
      "5\n",
      "55\n",
      "6765\n",
      "12586269025\n"
     ]
    }
   ],
   "source": [
    "fib_fast(5)# ➞ 5\n",
    "\n",
    "fib_fast(10)# ➞ 55\n",
    "\n",
    "fib_fast(20)# ➞ 6765\n",
    "\n",
    "fib_fast(50)# ➞ 12586269025\n"
   ]
  },
  {
   "cell_type": "markdown",
   "id": "57607481",
   "metadata": {},
   "source": [
    "# 2. Create a function that takes a strings characters as ASCII and returns each characters hexadecimal value as a string."
   ]
  },
  {
   "cell_type": "code",
   "execution_count": 26,
   "id": "79b1075f",
   "metadata": {},
   "outputs": [],
   "source": [
    "def convert_to_hex(s):\n",
    "    res=''\n",
    "    for i in s:\n",
    "        asc=ord(i)\n",
    "        res+=hex(asc)[2:]+\" \"\n",
    "    print(res.strip())   "
   ]
  },
  {
   "cell_type": "code",
   "execution_count": 27,
   "id": "ad409486",
   "metadata": {},
   "outputs": [
    {
     "name": "stdout",
     "output_type": "stream",
     "text": [
      "68 65 6c 6c 6f 20 77 6f 72 6c 64\n",
      "42 69 67 20 42 6f 69\n",
      "4d 61 72 74 79 20 50 6f 70 70 69 6e 73 6f 6e\n"
     ]
    }
   ],
   "source": [
    "convert_to_hex(\"hello world\")# ➞ \"68 65 6c 6c 6f 20 77 6f 72 6c 64\"\n",
    "\n",
    "convert_to_hex(\"Big Boi\")# ➞ \"42 69 67 20 42 6f 69\"\n",
    "\n",
    "convert_to_hex(\"Marty Poppinson\")# ➞ \"4d 61 72 74 79 20 50 6f 70 70 69 6e 73 6f 6e\"\n"
   ]
  },
  {
   "cell_type": "markdown",
   "id": "5853eb68",
   "metadata": {},
   "source": [
    "# 3. Someone has attempted to censor my strings by replacing every vowel with a *, l*k* th*s. Luckily, I've been able to find the vowels that were removed."
   ]
  },
  {
   "cell_type": "code",
   "execution_count": null,
   "id": "b42886bf",
   "metadata": {},
   "outputs": [],
   "source": []
  },
  {
   "cell_type": "code",
   "execution_count": 33,
   "id": "671ff946",
   "metadata": {},
   "outputs": [],
   "source": [
    "def uncensor(s,rep):\n",
    "    result=\"\"\n",
    "    if rep==\"\":\n",
    "        print(s)\n",
    "    else:\n",
    "        c=0\n",
    "        for i in range(len(s)):\n",
    "            if s[i]==\"*\":\n",
    "                result+=rep[c]\n",
    "                c+=1\n",
    "            else:\n",
    "                result+=s[i]\n",
    "        print(result)"
   ]
  },
  {
   "cell_type": "code",
   "execution_count": 34,
   "id": "f8fde4d6",
   "metadata": {},
   "outputs": [
    {
     "name": "stdout",
     "output_type": "stream",
     "text": [
      "Where did my vowels go?\n",
      "abcd\n",
      "UPPERCASE\n"
     ]
    }
   ],
   "source": [
    "uncensor(\"Wh*r* d*d my v*w*ls g*?\", \"eeioeo\")#➞ \"Where did my vowels go?\"\n",
    "uncensor(\"abcd\", \"\")# ➞ \"abcd\"\n",
    "uncensor(\"*PP*RC*S*\", \"UEAE\")# ➞ \"UPPERCASE\""
   ]
  },
  {
   "cell_type": "code",
   "execution_count": null,
   "id": "ec980451",
   "metadata": {},
   "outputs": [],
   "source": []
  },
  {
   "cell_type": "markdown",
   "id": "7f20432c",
   "metadata": {},
   "source": [
    "# 4. Write a function that takes an IP address and returns the domain name using PTR DNS records."
   ]
  },
  {
   "cell_type": "code",
   "execution_count": 56,
   "id": "f9600c5f",
   "metadata": {},
   "outputs": [],
   "source": [
    "import dns.resolver\n",
    "def get_domain(ip):\n",
    "    result=dns.resolver.resolve(ip+'.in-addr.arpa', 'PTR')\n",
    "    for val in result:\n",
    "        print(val.to_text())\n",
    "        "
   ]
  },
  {
   "cell_type": "code",
   "execution_count": 62,
   "id": "442a784b",
   "metadata": {},
   "outputs": [
    {
     "name": "stdout",
     "output_type": "stream",
     "text": [
      "dns.google.\n"
     ]
    }
   ],
   "source": [
    "get_domain(\"8.8.8.8\")"
   ]
  },
  {
   "cell_type": "code",
   "execution_count": 61,
   "id": "f4457de6",
   "metadata": {
    "collapsed": true
   },
   "outputs": [
    {
     "name": "stdout",
     "output_type": "stream",
     "text": [
      "dns.google.\n"
     ]
    },
    {
     "ename": "NXDOMAIN",
     "evalue": "The DNS query name does not exist: 8.8.4.4.in-addr.arpa.",
     "output_type": "error",
     "traceback": [
      "\u001b[1;31m---------------------------------------------------------------------------\u001b[0m",
      "\u001b[1;31mNXDOMAIN\u001b[0m                                  Traceback (most recent call last)",
      "\u001b[1;32m<ipython-input-61-27013fde508b>\u001b[0m in \u001b[0;36m<module>\u001b[1;34m\u001b[0m\n\u001b[0;32m      1\u001b[0m \u001b[0mget_domain\u001b[0m\u001b[1;33m(\u001b[0m\u001b[1;34m\"8.8.8.8\"\u001b[0m\u001b[1;33m)\u001b[0m\u001b[1;31m# ➞ \"dns.google\"\u001b[0m\u001b[1;33m\u001b[0m\u001b[1;33m\u001b[0m\u001b[0m\n\u001b[0;32m      2\u001b[0m \u001b[1;33m\u001b[0m\u001b[0m\n\u001b[1;32m----> 3\u001b[1;33m \u001b[0mget_domain\u001b[0m\u001b[1;33m(\u001b[0m\u001b[1;34m\"8.8.4.4\"\u001b[0m\u001b[1;33m)\u001b[0m\u001b[1;31m# ➞ \"dns.google\"\u001b[0m\u001b[1;33m\u001b[0m\u001b[1;33m\u001b[0m\u001b[0m\n\u001b[0m",
      "\u001b[1;32m<ipython-input-56-02732a909f5b>\u001b[0m in \u001b[0;36mget_domain\u001b[1;34m(ip)\u001b[0m\n\u001b[0;32m      1\u001b[0m \u001b[1;32mimport\u001b[0m \u001b[0mdns\u001b[0m\u001b[1;33m.\u001b[0m\u001b[0mresolver\u001b[0m\u001b[1;33m\u001b[0m\u001b[1;33m\u001b[0m\u001b[0m\n\u001b[0;32m      2\u001b[0m \u001b[1;32mdef\u001b[0m \u001b[0mget_domain\u001b[0m\u001b[1;33m(\u001b[0m\u001b[0mip\u001b[0m\u001b[1;33m)\u001b[0m\u001b[1;33m:\u001b[0m\u001b[1;33m\u001b[0m\u001b[1;33m\u001b[0m\u001b[0m\n\u001b[1;32m----> 3\u001b[1;33m     \u001b[0mresult\u001b[0m\u001b[1;33m=\u001b[0m\u001b[0mdns\u001b[0m\u001b[1;33m.\u001b[0m\u001b[0mresolver\u001b[0m\u001b[1;33m.\u001b[0m\u001b[0mresolve\u001b[0m\u001b[1;33m(\u001b[0m\u001b[0mip\u001b[0m\u001b[1;33m+\u001b[0m\u001b[1;34m'.in-addr.arpa'\u001b[0m\u001b[1;33m,\u001b[0m \u001b[1;34m'PTR'\u001b[0m\u001b[1;33m)\u001b[0m\u001b[1;33m\u001b[0m\u001b[1;33m\u001b[0m\u001b[0m\n\u001b[0m\u001b[0;32m      4\u001b[0m     \u001b[1;32mfor\u001b[0m \u001b[0mval\u001b[0m \u001b[1;32min\u001b[0m \u001b[0mresult\u001b[0m\u001b[1;33m:\u001b[0m\u001b[1;33m\u001b[0m\u001b[1;33m\u001b[0m\u001b[0m\n\u001b[0;32m      5\u001b[0m         \u001b[0mprint\u001b[0m\u001b[1;33m(\u001b[0m\u001b[0mval\u001b[0m\u001b[1;33m.\u001b[0m\u001b[0mto_text\u001b[0m\u001b[1;33m(\u001b[0m\u001b[1;33m)\u001b[0m\u001b[1;33m)\u001b[0m\u001b[1;33m\u001b[0m\u001b[1;33m\u001b[0m\u001b[0m\n",
      "\u001b[1;32m~\\anaconda3\\lib\\site-packages\\dns\\resolver.py\u001b[0m in \u001b[0;36mresolve\u001b[1;34m(qname, rdtype, rdclass, tcp, source, raise_on_no_answer, source_port, lifetime, search)\u001b[0m\n\u001b[0;32m   1191\u001b[0m     \"\"\"\n\u001b[0;32m   1192\u001b[0m \u001b[1;33m\u001b[0m\u001b[0m\n\u001b[1;32m-> 1193\u001b[1;33m     return get_default_resolver().resolve(qname, rdtype, rdclass, tcp, source,\n\u001b[0m\u001b[0;32m   1194\u001b[0m                                           \u001b[0mraise_on_no_answer\u001b[0m\u001b[1;33m,\u001b[0m \u001b[0msource_port\u001b[0m\u001b[1;33m,\u001b[0m\u001b[1;33m\u001b[0m\u001b[1;33m\u001b[0m\u001b[0m\n\u001b[0;32m   1195\u001b[0m                                           lifetime, search)\n",
      "\u001b[1;32m~\\anaconda3\\lib\\site-packages\\dns\\resolver.py\u001b[0m in \u001b[0;36mresolve\u001b[1;34m(self, qname, rdtype, rdclass, tcp, source, raise_on_no_answer, source_port, lifetime, search)\u001b[0m\n\u001b[0;32m   1051\u001b[0m         \u001b[0mstart\u001b[0m \u001b[1;33m=\u001b[0m \u001b[0mtime\u001b[0m\u001b[1;33m.\u001b[0m\u001b[0mtime\u001b[0m\u001b[1;33m(\u001b[0m\u001b[1;33m)\u001b[0m\u001b[1;33m\u001b[0m\u001b[1;33m\u001b[0m\u001b[0m\n\u001b[0;32m   1052\u001b[0m         \u001b[1;32mwhile\u001b[0m \u001b[1;32mTrue\u001b[0m\u001b[1;33m:\u001b[0m\u001b[1;33m\u001b[0m\u001b[1;33m\u001b[0m\u001b[0m\n\u001b[1;32m-> 1053\u001b[1;33m             \u001b[1;33m(\u001b[0m\u001b[0mrequest\u001b[0m\u001b[1;33m,\u001b[0m \u001b[0manswer\u001b[0m\u001b[1;33m)\u001b[0m \u001b[1;33m=\u001b[0m \u001b[0mresolution\u001b[0m\u001b[1;33m.\u001b[0m\u001b[0mnext_request\u001b[0m\u001b[1;33m(\u001b[0m\u001b[1;33m)\u001b[0m\u001b[1;33m\u001b[0m\u001b[1;33m\u001b[0m\u001b[0m\n\u001b[0m\u001b[0;32m   1054\u001b[0m             \u001b[1;31m# Note we need to say \"if answer is not None\" and not just\u001b[0m\u001b[1;33m\u001b[0m\u001b[1;33m\u001b[0m\u001b[1;33m\u001b[0m\u001b[0m\n\u001b[0;32m   1055\u001b[0m             \u001b[1;31m# \"if answer\" because answer implements __len__, and python\u001b[0m\u001b[1;33m\u001b[0m\u001b[1;33m\u001b[0m\u001b[1;33m\u001b[0m\u001b[0m\n",
      "\u001b[1;32m~\\anaconda3\\lib\\site-packages\\dns\\resolver.py\u001b[0m in \u001b[0;36mnext_request\u001b[1;34m(self)\u001b[0m\n\u001b[0;32m    630\u001b[0m         \u001b[1;31m# before now.)\u001b[0m\u001b[1;33m\u001b[0m\u001b[1;33m\u001b[0m\u001b[1;33m\u001b[0m\u001b[0m\n\u001b[0;32m    631\u001b[0m         \u001b[1;31m#\u001b[0m\u001b[1;33m\u001b[0m\u001b[1;33m\u001b[0m\u001b[1;33m\u001b[0m\u001b[0m\n\u001b[1;32m--> 632\u001b[1;33m         raise NXDOMAIN(qnames=self.qnames_to_try,\n\u001b[0m\u001b[0;32m    633\u001b[0m                        responses=self.nxdomain_responses)\n\u001b[0;32m    634\u001b[0m \u001b[1;33m\u001b[0m\u001b[0m\n",
      "\u001b[1;31mNXDOMAIN\u001b[0m: The DNS query name does not exist: 8.8.4.4.in-addr.arpa."
     ]
    }
   ],
   "source": [
    "get_domain(\"8.8.8.8\")# ➞ \"dns.google\"\n",
    "\n",
    "get_domain(\"8.8.4.4\")# ➞ \"dns.google\" #this ip address is not stroed in my address resolution protocal table\n"
   ]
  },
  {
   "cell_type": "markdown",
   "id": "32de1091",
   "metadata": {},
   "source": [
    "# 5. Create a function that takes an integer n and returns the factorial of factorials. See below examples for a better understanding:\n"
   ]
  },
  {
   "cell_type": "raw",
   "id": "844e7134",
   "metadata": {},
   "source": [
    "\n",
    "Examples\n",
    "\n",
    "fact_of_fact(4) ➞ 288\n",
    "# 4! * 3! * 2! * 1! = 288\n",
    "\n",
    "fact_of_fact(5) ➞ 34560\n",
    "\n",
    "fact_of_fact(6) ➞ 24883200\n"
   ]
  },
  {
   "cell_type": "code",
   "execution_count": 93,
   "id": "af06d34b",
   "metadata": {},
   "outputs": [],
   "source": [
    "def fact_of_fact(n):\n",
    "    res=1\n",
    "    def fact(k):\n",
    "        prod=1\n",
    "        for i in range(1,k+1):\n",
    "            prod*=i\n",
    "        return prod\n",
    "    for i in range(1,n+1):\n",
    "        res*=fact(i)\n",
    "    print(res)\n",
    "        \n",
    "        "
   ]
  },
  {
   "cell_type": "code",
   "execution_count": 96,
   "id": "41b88366",
   "metadata": {},
   "outputs": [
    {
     "name": "stdout",
     "output_type": "stream",
     "text": [
      "288\n",
      "34560\n",
      "24883200\n"
     ]
    }
   ],
   "source": [
    "fact_of_fact(4)# ➞ 288\n",
    "# 4! * 3! * 2! * 1! = 288\n",
    "\n",
    "fact_of_fact(5)# ➞ 34560\n",
    "\n",
    "fact_of_fact(6)# ➞ 24883200"
   ]
  },
  {
   "cell_type": "code",
   "execution_count": null,
   "id": "d702c579",
   "metadata": {},
   "outputs": [],
   "source": []
  },
  {
   "cell_type": "code",
   "execution_count": null,
   "id": "45eaaac7",
   "metadata": {},
   "outputs": [],
   "source": []
  },
  {
   "cell_type": "code",
   "execution_count": null,
   "id": "93f736d7",
   "metadata": {},
   "outputs": [],
   "source": []
  },
  {
   "cell_type": "code",
   "execution_count": null,
   "id": "ed4086e8",
   "metadata": {},
   "outputs": [],
   "source": []
  },
  {
   "cell_type": "code",
   "execution_count": null,
   "id": "926757cb",
   "metadata": {},
   "outputs": [],
   "source": []
  },
  {
   "cell_type": "code",
   "execution_count": null,
   "id": "00534a0b",
   "metadata": {},
   "outputs": [],
   "source": []
  },
  {
   "cell_type": "code",
   "execution_count": null,
   "id": "09351218",
   "metadata": {},
   "outputs": [],
   "source": []
  }
 ],
 "metadata": {
  "kernelspec": {
   "display_name": "Python 3",
   "language": "python",
   "name": "python3"
  },
  "language_info": {
   "codemirror_mode": {
    "name": "ipython",
    "version": 3
   },
   "file_extension": ".py",
   "mimetype": "text/x-python",
   "name": "python",
   "nbconvert_exporter": "python",
   "pygments_lexer": "ipython3",
   "version": "3.8.8"
  }
 },
 "nbformat": 4,
 "nbformat_minor": 5
}
