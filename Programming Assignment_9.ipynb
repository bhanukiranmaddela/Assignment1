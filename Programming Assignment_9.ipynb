{
 "cells": [
  {
   "cell_type": "markdown",
   "id": "c648c800",
   "metadata": {},
   "source": [
    "# 1. YouTube offers different playback speed options for users. This allows users to increase or decrease the speed of the video content. Given the actual duration and playback speed of the video, calculate the playback duration of the video."
   ]
  },
  {
   "cell_type": "code",
   "execution_count": 1,
   "id": "3c210d5d",
   "metadata": {},
   "outputs": [],
   "source": [
    "def playback_duration(time_str, delay):\n",
    "    time_list=time_str.split(\":\")\n",
    "    hr,mi,sec=[int(i) for  i in time_list]\n",
    "    total_time = hr*(60*60)+mi*60+sec\n",
    "    if delay>0:\n",
    "        total_time=total_time/delay\n",
    "    elif delay<0:\n",
    "        total_time=total_time*(1+delay)\n",
    "    hr =(total_time/(60*60))\n",
    "    mi =(total_time-int(hr)*(60*60))/(60)\n",
    "    sec =total_time-(int(hr)*60*60)-(int(mi)*60)\n",
    "    print(str(int(hr))+\":\"+str(int(mi))+\":\"+str(int(sec)))"
   ]
  },
  {
   "cell_type": "code",
   "execution_count": 2,
   "id": "fb0457bd",
   "metadata": {},
   "outputs": [
    {
     "name": "stdout",
     "output_type": "stream",
     "text": [
      "0:15:0\n",
      "0:53:20\n",
      "102:40:18\n"
     ]
    }
   ],
   "source": [
    "playback_duration(\"00:30:00\", 2)# ➞ \"00:15:00\"\n",
    "\n",
    "playback_duration(\"01:20:00\", 1.5)# ➞ \"00:53:20\"\n",
    "\n",
    "playback_duration(\"51:20:09\", 0.5)# ➞ \"102:40:18\"\n"
   ]
  },
  {
   "cell_type": "markdown",
   "id": "5d89e454",
   "metadata": {},
   "source": [
    "# 2. We needs your help to construct a building which will be a pile of n cubes. The cube at the bottom will have a volume of n^3, the cube above will have volume of (n-1)^3 and so on until the top which will have a volume of 1^3."
   ]
  },
  {
   "cell_type": "code",
   "execution_count": 3,
   "id": "ad388d59",
   "metadata": {},
   "outputs": [],
   "source": [
    "def pile_of_cubes(given):\n",
    "    p=1\n",
    "    v=1\n",
    "    while v<=given:\n",
    "        if v==given:\n",
    "            return p\n",
    "        else:\n",
    "            p+=1\n",
    "            v +=p**3\n",
    "    return"
   ]
  },
  {
   "cell_type": "code",
   "execution_count": 4,
   "id": "482b7738",
   "metadata": {},
   "outputs": [
    {
     "data": {
      "text/plain": [
       "45"
      ]
     },
     "execution_count": 4,
     "metadata": {},
     "output_type": "execute_result"
    }
   ],
   "source": [
    "pile_of_cubes(1071225)# ➞ 45\n"
   ]
  },
  {
   "cell_type": "code",
   "execution_count": 5,
   "id": "63e9d11a",
   "metadata": {},
   "outputs": [
    {
     "data": {
      "text/plain": [
       "2022"
      ]
     },
     "execution_count": 5,
     "metadata": {},
     "output_type": "execute_result"
    }
   ],
   "source": [
    "pile_of_cubes(4183059834009)# ➞ 2022"
   ]
  },
  {
   "cell_type": "code",
   "execution_count": 6,
   "id": "e1c12f07",
   "metadata": {},
   "outputs": [
    {
     "name": "stdout",
     "output_type": "stream",
     "text": [
      "None\n"
     ]
    }
   ],
   "source": [
    "print(pile_of_cubes(16))# ➞ None "
   ]
  },
  {
   "cell_type": "markdown",
   "id": "f9d03bea",
   "metadata": {},
   "source": [
    "# 3. A fulcrum of a list is an integer such that all elements to the left of it and all elements to the right of it sum to the same value. Write a function that finds the fulcrum of a list."
   ]
  },
  {
   "cell_type": "code",
   "execution_count": 7,
   "id": "a237576c",
   "metadata": {},
   "outputs": [],
   "source": [
    "def find_fulcrum(l):\n",
    "    for i in range(1,len(l)-1):\n",
    "        if sum(l[:i])==sum(l[i+1:]):\n",
    "            return l[i]\n",
    "    return -1\n",
    "    "
   ]
  },
  {
   "cell_type": "code",
   "execution_count": 8,
   "id": "4d00a8b8",
   "metadata": {},
   "outputs": [
    {
     "data": {
      "text/plain": [
       "4"
      ]
     },
     "execution_count": 8,
     "metadata": {},
     "output_type": "execute_result"
    }
   ],
   "source": [
    "find_fulcrum([1, 2, 4, 9, 10, -10, -9, 3])# ➞ 4\t"
   ]
  },
  {
   "cell_type": "code",
   "execution_count": 9,
   "id": "f518c317",
   "metadata": {},
   "outputs": [
    {
     "data": {
      "text/plain": [
       "1"
      ]
     },
     "execution_count": 9,
     "metadata": {},
     "output_type": "execute_result"
    }
   ],
   "source": [
    "find_fulcrum([9, 1, 9])# ➞ 1\n",
    "\n"
   ]
  },
  {
   "cell_type": "code",
   "execution_count": 10,
   "id": "89ccda98",
   "metadata": {},
   "outputs": [
    {
     "data": {
      "text/plain": [
       "0"
      ]
     },
     "execution_count": 10,
     "metadata": {},
     "output_type": "execute_result"
    }
   ],
   "source": [
    "find_fulcrum([7, -1, 0, -1, 1, 1, 2, 3])# ➞ 0\n"
   ]
  },
  {
   "cell_type": "code",
   "execution_count": 11,
   "id": "01e1d51a",
   "metadata": {},
   "outputs": [
    {
     "data": {
      "text/plain": [
       "-1"
      ]
     },
     "execution_count": 11,
     "metadata": {},
     "output_type": "execute_result"
    }
   ],
   "source": [
    "find_fulcrum([8, 8, 8, 8])# ➞ -1\n"
   ]
  },
  {
   "cell_type": "markdown",
   "id": "5724c6d7",
   "metadata": {},
   "source": [
    "# 4. Given a list of integers representing the color of each sock, determine how many pairs of socks with matching colors there are\n",
    "\t\n"
   ]
  },
  {
   "cell_type": "code",
   "execution_count": 12,
   "id": "6c6676a3",
   "metadata": {},
   "outputs": [],
   "source": [
    "def sock_merchant(l):\n",
    "    pair=0\n",
    "    if len(l)>0:\n",
    "        s = set(l)\n",
    "        for i in s:\n",
    "            pair+=l.count(i)//2\n",
    "        print(pair)\n",
    "    else:\n",
    "        print(pair)\n",
    "        \n",
    "                "
   ]
  },
  {
   "cell_type": "code",
   "execution_count": 13,
   "id": "bf9d0cda",
   "metadata": {},
   "outputs": [
    {
     "name": "stdout",
     "output_type": "stream",
     "text": [
      "3\n",
      "4\n",
      "0\n"
     ]
    }
   ],
   "source": [
    "\n",
    "sock_merchant([10, 20, 20, 10, 10, 30, 50, 10, 20])# ➞ 3\n",
    "\n",
    "sock_merchant([50, 20, 30, 90, 30, 20, 50, 20, 90])# ➞ 4\n",
    "\n",
    "sock_merchant([])# ➞ 0\n"
   ]
  },
  {
   "cell_type": "markdown",
   "id": "f64c0532",
   "metadata": {},
   "source": [
    "# 5. Create a function that takes a string containing integers as well as other characters and return the sum of the negative integers only."
   ]
  },
  {
   "cell_type": "code",
   "execution_count": 14,
   "id": "3133429d",
   "metadata": {},
   "outputs": [],
   "source": [
    "#without regex\n",
    "def negative_sum(s):\n",
    "    su=0\n",
    "    for i in range(len(s)):\n",
    "        if s[i]==\"-\":\n",
    "            num_str=''\n",
    "            start=i+1\n",
    "            try:\n",
    "                while s[start].isdigit()==True:\n",
    "                    num_str+=s[start]\n",
    "                    start+=1\n",
    "            except:\n",
    "                pass\n",
    "            su+=int(num_str)\n",
    "    print(-su)\n",
    "                \n",
    "                \n",
    "                \n",
    "                \n",
    "                \n",
    "                \n",
    "                "
   ]
  },
  {
   "cell_type": "code",
   "execution_count": 15,
   "id": "b3a82c35",
   "metadata": {},
   "outputs": [
    {
     "name": "stdout",
     "output_type": "stream",
     "text": [
      "-23\n"
     ]
    }
   ],
   "source": [
    "negative_sum(\"-12 13%14&-11\")# ➞ -23"
   ]
  },
  {
   "cell_type": "code",
   "execution_count": 16,
   "id": "27e4e5d6",
   "metadata": {},
   "outputs": [
    {
     "name": "stdout",
     "output_type": "stream",
     "text": [
      "-33\n"
     ]
    }
   ],
   "source": [
    "negative_sum(\"22 13%14&-11-22 13 12\")# ➞ -33\n",
    "# -11 + -22 = -33\n"
   ]
  },
  {
   "cell_type": "code",
   "execution_count": null,
   "id": "95d8a4e5",
   "metadata": {},
   "outputs": [],
   "source": []
  }
 ],
 "metadata": {
  "kernelspec": {
   "display_name": "Python 3",
   "language": "python",
   "name": "python3"
  },
  "language_info": {
   "codemirror_mode": {
    "name": "ipython",
    "version": 3
   },
   "file_extension": ".py",
   "mimetype": "text/x-python",
   "name": "python",
   "nbconvert_exporter": "python",
   "pygments_lexer": "ipython3",
   "version": "3.8.8"
  }
 },
 "nbformat": 4,
 "nbformat_minor": 5
}
