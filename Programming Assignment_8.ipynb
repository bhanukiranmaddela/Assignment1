{
 "cells": [
  {
   "cell_type": "markdown",
   "id": "02d3e659",
   "metadata": {},
   "source": [
    "# 1. Given a sentence as txt, return True if any two adjacent words have this property: One word ends with a vowel, while the word immediately after begins with a vowel (a e i o u)."
   ]
  },
  {
   "cell_type": "code",
   "execution_count": 1,
   "id": "3c160791",
   "metadata": {},
   "outputs": [],
   "source": [
    "def vowel_links(s):\n",
    "    s = s.split(\" \")\n",
    "    for i in range(len(s)-1):\n",
    "        if s[i][-1] in 'aeiouAEIOU' and s[i+1][0] in \"AEIOUaeiou\":\n",
    "             return True\n",
    "    return False\n",
    "    \n",
    "    "
   ]
  },
  {
   "cell_type": "code",
   "execution_count": 2,
   "id": "1b2ca314",
   "metadata": {},
   "outputs": [
    {
     "data": {
      "text/plain": [
       "True"
      ]
     },
     "execution_count": 2,
     "metadata": {},
     "output_type": "execute_result"
    }
   ],
   "source": [
    "vowel_links(\"a very large appliance\")# ➞ True"
   ]
  },
  {
   "cell_type": "code",
   "execution_count": 3,
   "id": "c800d22e",
   "metadata": {},
   "outputs": [
    {
     "data": {
      "text/plain": [
       "True"
      ]
     },
     "execution_count": 3,
     "metadata": {},
     "output_type": "execute_result"
    }
   ],
   "source": [
    "vowel_links(\"go to edabit\")# ➞ True\n"
   ]
  },
  {
   "cell_type": "code",
   "execution_count": 4,
   "id": "e7ce350f",
   "metadata": {},
   "outputs": [
    {
     "data": {
      "text/plain": [
       "False"
      ]
     },
     "execution_count": 4,
     "metadata": {},
     "output_type": "execute_result"
    }
   ],
   "source": [
    "vowel_links(\"an open fire\")# ➞ False"
   ]
  },
  {
   "cell_type": "code",
   "execution_count": 5,
   "id": "9b65fd86",
   "metadata": {},
   "outputs": [
    {
     "data": {
      "text/plain": [
       "False"
      ]
     },
     "execution_count": 5,
     "metadata": {},
     "output_type": "execute_result"
    }
   ],
   "source": [
    "vowel_links(\"a sudden applause\")# ➞ False"
   ]
  },
  {
   "cell_type": "markdown",
   "id": "b050c06b",
   "metadata": {},
   "source": [
    "# 2 Write a function that returns True if every instance of the first letter occurs before every instance of the second letter.\n"
   ]
  },
  {
   "cell_type": "code",
   "execution_count": 6,
   "id": "fe2933b1",
   "metadata": {},
   "outputs": [],
   "source": [
    "def first_before_second(s,a,b):# ➞ True\n",
    "    s=s.split(\" \")\n",
    "    for i in s:\n",
    "        if a in i:\n",
    "            a_ind = i.index(a)\n",
    "        else:\n",
    "            a_ind=-1\n",
    "        if b in i:\n",
    "            b_ind = i.index(b)\n",
    "        else:\n",
    "            b_ind=-1\n",
    "        if a_ind>b_ind:\n",
    "            return True\n",
    "    return False\n",
    "            \n",
    "        \n",
    "            "
   ]
  },
  {
   "cell_type": "code",
   "execution_count": 7,
   "id": "bd004f21",
   "metadata": {},
   "outputs": [
    {
     "data": {
      "text/plain": [
       "True"
      ]
     },
     "execution_count": 7,
     "metadata": {},
     "output_type": "execute_result"
    }
   ],
   "source": [
    "first_before_second(\"a rabbit jumps joyfully\", \"a\", \"j\")# ➞ True"
   ]
  },
  {
   "cell_type": "code",
   "execution_count": 8,
   "id": "4b148f9c",
   "metadata": {},
   "outputs": [
    {
     "data": {
      "text/plain": [
       "True"
      ]
     },
     "execution_count": 8,
     "metadata": {},
     "output_type": "execute_result"
    }
   ],
   "source": [
    "first_before_second(\"knaves knew about waterfalls\", \"k\", \"w\")# ➞  True"
   ]
  },
  {
   "cell_type": "code",
   "execution_count": 9,
   "id": "b043ba76",
   "metadata": {},
   "outputs": [
    {
     "data": {
      "text/plain": [
       "False"
      ]
     },
     "execution_count": 9,
     "metadata": {},
     "output_type": "execute_result"
    }
   ],
   "source": [
    "first_before_second(\"happy birthday\", \"a\", \"y\")# ➞ False\n",
    "# The \"a\" in \"birthday\" occurs after the \"y\" in \"happy\".\n",
    "\n"
   ]
  },
  {
   "cell_type": "code",
   "execution_count": 10,
   "id": "ee4f1cd8",
   "metadata": {},
   "outputs": [
    {
     "data": {
      "text/plain": [
       "False"
      ]
     },
     "execution_count": 10,
     "metadata": {},
     "output_type": "execute_result"
    }
   ],
   "source": [
    "first_before_second(\"precarious kangaroos\", \"k\", \"a\")# ➞ False"
   ]
  },
  {
   "cell_type": "markdown",
   "id": "0c90010b",
   "metadata": {},
   "source": [
    "# 3. Create a function that returns the characters from a list or string r on odd or even positions, depending on the specifier s. The specifier will be \"odd\" for items on odd positions (1, 3, 5, ...) and \"even\" for items on even positions (2, 4, 6, ...)."
   ]
  },
  {
   "cell_type": "code",
   "execution_count": 11,
   "id": "4329b0e5",
   "metadata": {},
   "outputs": [],
   "source": [
    "def char_at_pos(data, s):\n",
    "    if type(data)==list:\n",
    "        res=[]\n",
    "        if s==\"even\":\n",
    "            for i in range(1,len(data),2):\n",
    "                res.append(data[i])\n",
    "        else:\n",
    "            for i in range(0,len(data)+1,2):\n",
    "                res.append(data[i])\n",
    "    elif type(data)==str:\n",
    "        res=''\n",
    "        if s==\"even\":\n",
    "            for i in range(1,len(data),2):\n",
    "                res+=data[i]\n",
    "        else:\n",
    "            for i in range(0,len(data),2):\n",
    "                res+=data[i]\n",
    "    return res\n",
    "        \n",
    "        \n",
    "            \n",
    "                \n",
    "            \n",
    "            \n",
    "                \n",
    "            "
   ]
  },
  {
   "cell_type": "code",
   "execution_count": 12,
   "id": "0185ef5c",
   "metadata": {},
   "outputs": [
    {
     "data": {
      "text/plain": [
       "[4, 8]"
      ]
     },
     "execution_count": 12,
     "metadata": {},
     "output_type": "execute_result"
    }
   ],
   "source": [
    "char_at_pos([2, 4, 6, 8, 10], \"even\")# ➞ [4, 8]"
   ]
  },
  {
   "cell_type": "code",
   "execution_count": 13,
   "id": "9ed5dbeb",
   "metadata": {},
   "outputs": [
    {
     "data": {
      "text/plain": [
       "'EAI'"
      ]
     },
     "execution_count": 13,
     "metadata": {},
     "output_type": "execute_result"
    }
   ],
   "source": [
    "char_at_pos(\"EDABIT\", \"odd\")# ➞ \"EAI\""
   ]
  },
  {
   "cell_type": "code",
   "execution_count": 14,
   "id": "8b1d93c8",
   "metadata": {},
   "outputs": [
    {
     "data": {
      "text/plain": [
       "['A', 'B', 'T', 'A', 'I', 'Y']"
      ]
     },
     "execution_count": 14,
     "metadata": {},
     "output_type": "execute_result"
    }
   ],
   "source": [
    "char_at_pos([\"A\", \"R\", \"B\", \"I\", \"T\", \"R\", \"A\", \"R\", \"I\", \"L\", \"Y\"], \"odd\")"
   ]
  },
  {
   "cell_type": "markdown",
   "id": "8202de00",
   "metadata": {},
   "source": [
    "# 4. Write a function that returns the greatest common divisor of all list elements. If the greatest common divisor is 1, return 1.\n",
    "\n",
    "\n"
   ]
  },
  {
   "cell_type": "code",
   "execution_count": 15,
   "id": "458917bd",
   "metadata": {},
   "outputs": [],
   "source": [
    "def GCD(l):\n",
    "    res=[]\n",
    "    for i in l:\n",
    "        each=[]\n",
    "        for j in range(1,i+1):\n",
    "            if i%j==0:\n",
    "                each.append(j)\n",
    "        res.append(each)\n",
    "    first=set(res[0])\n",
    "    rem=res[1:]\n",
    "    r1=[]#checking common elements taking reference of first inner list\n",
    "    for i in rem:\n",
    "        i=set(i)\n",
    "        res=first.intersection(i)\n",
    "        r1.append(list(res))\n",
    "    result=r1[0]\n",
    "    print(max(result))"
   ]
  },
  {
   "cell_type": "code",
   "execution_count": 16,
   "id": "24199821",
   "metadata": {},
   "outputs": [
    {
     "name": "stdout",
     "output_type": "stream",
     "text": [
      "10\n",
      "1\n",
      "64\n"
     ]
    }
   ],
   "source": [
    "GCD([10, 20, 40])# ➞ 10\n",
    "\n",
    "GCD([1, 2, 3, 100])# ➞ 1\n",
    "GCD([1024, 192, 2048, 512])# ➞ 64"
   ]
  },
  {
   "cell_type": "markdown",
   "id": "00ba5ba5",
   "metadata": {},
   "source": [
    "# 5. A number/string is a palindrome if the digits/characters are the same when read both forward and backward. Examples include \"racecar\" and 12321. Given a positive number n, check if n or the binary representation of n is palindromic. Return the following:"
   ]
  },
  {
   "cell_type": "code",
   "execution_count": 17,
   "id": "02a79134",
   "metadata": {},
   "outputs": [],
   "source": [
    "def palindrome_type(n)->str: # assumuing only numbers are taken as input and string is the output\n",
    "    bin_n=bin(n)\n",
    "    n=str(n)\n",
    "    st = str(bin_n[2:])\n",
    "    if st==st[::-1] and n==n[::-1]:\n",
    "        print(\"Decimal and binary.\")\n",
    "    elif st==st[::-1]:\n",
    "        print(\"Binary only\")\n",
    "    elif n==n[::-1]:\n",
    "        print(\"Decimal only\")\n",
    "    else:\n",
    "        print(\"Neither\")\n",
    "        \n",
    "    "
   ]
  },
  {
   "cell_type": "code",
   "execution_count": 18,
   "id": "88850d59",
   "metadata": {},
   "outputs": [
    {
     "name": "stdout",
     "output_type": "stream",
     "text": [
      "Decimal only\n",
      "Binary only\n",
      "Decimal and binary.\n",
      "Neither\n"
     ]
    }
   ],
   "source": [
    "palindrome_type(1306031)# ➞ \"Decimal only.\"\n",
    "# decimal = 1306031\t\n",
    "# binary  = \"100111110110110101111\"\n",
    "\n",
    "palindrome_type(427787)# ➞ \"Binary only.\"\n",
    "# decimal = 427787\n",
    "# binary  = \"1101000011100001011\"\n",
    "\n",
    "palindrome_type(313)# ➞ \"Decimal and binary.\"\n",
    "# decimal = 313\n",
    "# binary  = 100111001\n",
    "\n",
    "palindrome_type(934)# ➞ \"Neither!\"\n",
    "# decimal = 934\n",
    "# binary  = \"1110100110\"\n"
   ]
  },
  {
   "cell_type": "code",
   "execution_count": null,
   "id": "16862b5a",
   "metadata": {},
   "outputs": [],
   "source": []
  },
  {
   "cell_type": "code",
   "execution_count": null,
   "id": "9b84d244",
   "metadata": {},
   "outputs": [],
   "source": []
  }
 ],
 "metadata": {
  "kernelspec": {
   "display_name": "Python 3",
   "language": "python",
   "name": "python3"
  },
  "language_info": {
   "codemirror_mode": {
    "name": "ipython",
    "version": 3
   },
   "file_extension": ".py",
   "mimetype": "text/x-python",
   "name": "python",
   "nbconvert_exporter": "python",
   "pygments_lexer": "ipython3",
   "version": "3.8.8"
  }
 },
 "nbformat": 4,
 "nbformat_minor": 5
}
